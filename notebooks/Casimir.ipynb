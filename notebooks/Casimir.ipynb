{
 "cells": [
  {
   "cell_type": "markdown",
   "id": "a4e31568",
   "metadata": {},
   "source": [
    "# Force de Casimir – Modèle compressif\n",
    "\n",
    "**Prédiction compressive :** ΔF = –2.9 % ± 0.3 % (distance = 1 µm, T = 300K)\n",
    "\n",
    "**Équation de base :**\n",
    "\n",
    "V(Φ) = Φ log(Φ) + α Φ² ; avec α ≈ 6.2×10⁻³"
   ]
  },
  {
   "cell_type": "markdown",
   "id": "592f593b",
   "metadata": {},
   "source": [
    "## TODO\n",
    "\n",
    "Implémenter le calcul de la pression entre plaques avec corrections compressives."
   ]
  }
 ],
 "metadata": {},
 "nbformat": 4,
 "nbformat_minor": 5
}
