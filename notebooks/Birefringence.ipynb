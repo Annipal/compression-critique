{
 "cells": [
  {
   "cell_type": "markdown",
   "id": "5393841e",
   "metadata": {},
   "source": [
    "# Birefringence du vide – Modèle compressif\n",
    "\n",
    "**Prédiction compressive :** θ = 0.21 nrad ± 0.03 nrad (champ B = 2.5 T sur 10 m)\n",
    "\n",
    "**Équation de base :**\n",
    "\n",
    "Analyser les effets de V(Φ) sur l’indice du vide sous champ magnétique transversal."
   ]
  },
  {
   "cell_type": "markdown",
   "id": "ea964767",
   "metadata": {},
   "source": [
    "## TODO\n",
    "\n",
    "Tracer l’évolution de l’angle de rotation en fonction de B et comparer au bruit instrumental."
   ]
  }
 ],
 "metadata": {},
 "nbformat": 4,
 "nbformat_minor": 5
}
