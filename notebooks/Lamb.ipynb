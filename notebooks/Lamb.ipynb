{
 "cells": [
  {
   "cell_type": "markdown",
   "id": "3f9c045b",
   "metadata": {},
   "source": [
    "# Déplacement de Lamb – Modèle compressif\n",
    "\n",
    "**Prédiction compressive :** Δν = +14.3 kHz ± 2.0 kHz (transition 1S–2S de l'hydrogène)\n",
    "\n",
    "**Équation de base :**\n",
    "\n",
    "Déterminer la correction du potentiel dans le cadre de V(Φ) et en déduire le shift."
   ]
  },
  {
   "cell_type": "markdown",
   "id": "41c55a25",
   "metadata": {},
   "source": [
    "## TODO\n",
    "\n",
    "Reproduire le spectre fin avec et sans correction compressive, comparer aux données expérimentales."
   ]
  }
 ],
 "metadata": {},
 "nbformat": 4,
 "nbformat_minor": 5
}
