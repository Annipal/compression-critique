{
 "cells": [
  {
   "cell_type": "markdown",
   "id": "7e1b3ce2",
   "metadata": {},
   "source": [
    "# Temps de décohérence – Modèle compressif\n",
    "\n",
    "**Prédiction compressive :** t₁/₂ = 22 ms ± 3 ms (molécule 10⁻¹⁶ kg, interférence)\n",
    "\n",
    "**Équation de base :**\n",
    "\n",
    "Inclure Φ dans le terme d'interaction avec l’environnement. En déduire le taux de perte de cohérence."
   ]
  },
  {
   "cell_type": "markdown",
   "id": "908049b5",
   "metadata": {},
   "source": [
    "## TODO\n",
    "\n",
    "Estimer le facteur de suppression des franges pour différents temps d’exposition au champ compressif."
   ]
  }
 ],
 "metadata": {},
 "nbformat": 4,
 "nbformat_minor": 5
}
